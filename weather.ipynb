{
 "cells": [
  {
   "cell_type": "markdown",
   "metadata": {},
   "source": [
    "# Weather\n",
    "\n",
    "***"
   ]
  },
  {
   "cell_type": "markdown",
   "metadata": {},
   "source": [
    "This notebook contains a summary of Tasks 1-7, as well as a brief analysis of weather data downloaded from [https://data.gov.ie/](https://data.gov.ie/)."
   ]
  },
  {
   "cell_type": "code",
   "execution_count": 1,
   "metadata": {},
   "outputs": [],
   "source": [
    "# Import required libraries\n",
    "import matplotlib.pyplot as plt\n",
    "import pandas as pd\n",
    "import seaborn as sns\n",
    "import numpy as np"
   ]
  },
  {
   "cell_type": "markdown",
   "metadata": {},
   "source": [
    "### Task Summaries\n",
    "\n",
    "***"
   ]
  },
  {
   "cell_type": "markdown",
   "metadata": {},
   "source": [
    "#### TASK 1: Create Directory Structure\n",
    "\n",
    "Directories can be created from the command line using the `mkdir` command. The [MAN page for mkdir](https://linux.die.net/man/1/mkdir) explains its usage. [Bash](https://www.gnu.org/software/bash/) is a 'shell' (a.k.a. a command line interpreter) that executes the commands. The [Bash manual](https://www.gnu.org/software/bash/manual/bash.html) covers Bash features in detail.\n",
    "    \n",
    "To create the data directory the following command can be used:\n",
    "\n",
    "`$ mkdir data`\n",
    "\n",
    "Once that directory is created, we can navigate into that new directory with the following command:\n",
    "\n",
    "`$ cd data`\n",
    "\n",
    "Note `cd` is used to [change directory.](https://www.gnu.org/software/bash/manual/bash.html#index-cd)\n",
    "\n",
    "Once inside the data directory we can then create two more directories using the following commands:\n",
    "\n",
    "`& mkdir weather`\n",
    "\n",
    "`$ mkdir timestamps`\n",
    "\n",
    "\n",
    "To save time, we can combine those commands into one succint command, as `mkdir` accepts multiple arguements:\n",
    "    \n",
    "`$ mkdir -p data/weather data/timestamps`\n",
    "\n",
    "- https://unix.stackexchange.com/questions/338104/creating-multiple-nested-directories-with-one-command\n",
    "    \n",
    "Note the use of the `-p` flag (short for `--parents`) which tells Bash to create parent directories as required."
   ]
  },
  {
   "cell_type": "markdown",
   "metadata": {},
   "source": [
    "#### TASK 2: Timestamps\n",
    "\n",
    "We can invoke the `date` command-line tool to timestamp files.\n",
    "\n",
    "- https://www.gnu.org/software/coreutils/manual/html_node/date-invocation.html#date-invocation\n",
    "\n",
    "From the root of the directory, navigate into the timestamps directory using the following command:\n",
    "\n",
    "`$ cd data/timestamps`\n",
    "\n",
    "The `date` command displays system time and date. The output from `date` command can be appended to a file. In computing terms to append means to \"write more data to the end of a pre-existing file\" (The American Heritage® Dictionary of the English Language, 5th Edition)\n",
    "\n",
    "If the file does not exist, it is created automatically.\n",
    "\n",
    "`$ date >> now.txt`\n",
    "\n",
    "The '>>' operator pipes the output from `date` into a file called 'now.txt'\n",
    "\n",
    "- https://www.gnu.org/software/bash/manual/bash.html#Appending-Redirected-Output\n",
    "\n",
    "There are many optional arguements that can be used when invoking `date`:\n",
    "\n",
    "- https://www.man7.org/linux/man-pages/man1/date.1.html"
   ]
  },
  {
   "cell_type": "markdown",
   "metadata": {},
   "source": [
    "#### TASK 3: Formatting Timestamps\n",
    "\n",
    "The output from `date` can be formatted by providing different option to the `date` command.\n",
    "\n",
    "`$ date --help` shows where to get full documentation as well as a full list of FORMAT controls, a sample of which is shown below:\n",
    "\n",
    "```\n",
    "  %a   locale's abbreviated weekday name (e.g., Sun)\n",
    "  %A   locale's full weekday name (e.g., Sunday)\n",
    "  %b   locale's abbreviated month name (e.g., Jan)\n",
    "  %B   locale's full month name (e.g., January)\n",
    "  %c   locale's date and time (e.g., Thu Mar  3 23:05:25 2005)\n",
    "  %C   century; like %Y, except omit last two digits (e.g., 20)\n",
    "```\n",
    "\n",
    "This site gives a good overview of how to combine optional arguements:\n",
    "\n",
    "- https://www.howtogeek.com/410442/how-to-display-the-date-and-time-in-the-linux-terminal-and-use-it-in-bash-scripts/\n",
    "\n",
    "The format string always begins with the plus sign `+`, followed by the option. Each option has a leading `%` sign:  \n",
    "    \n",
    "`$ date +%Y%m%d_%H%M%S`\n",
    "\n",
    "The output is as follows: `20241103_153645`\n",
    "\n",
    "\n",
    "The above command is comprised of the following optional arguments. An underscore seperates the string for better readability:\n",
    "\n",
    "```\n",
    "%Y   year\n",
    "%m   month (01..12)\n",
    "%d   day of month (e.g., 01)\n",
    "%H   hour (00..23)\n",
    "%M   minute (00..59)\n",
    "%S   second (00..60)\n",
    "```"
   ]
  },
  {
   "cell_type": "markdown",
   "metadata": {},
   "source": [
    "#### TASK 4: Create Timestamped Files\n",
    "\n",
    "Append to file:\n",
    "\n",
    "```    \n",
    "$ touch `date +%Y%m%d_%H%M%S.txt`\n",
    "```\n",
    "\n",
    "touch man page:\n",
    "\n",
    "- https://www.man7.org/linux/man-pages/man1/touch.1.html"
   ]
  },
  {
   "cell_type": "markdown",
   "metadata": {},
   "source": [
    "#### TASK 5: Download Today's Weather Data\n",
    "\n",
    "wget \n",
    "\n",
    "- https://www.gnu.org/software/wget/\n",
    "\n",
    "Used command:\n",
    "\n",
    "```\n",
    "$ wget -O weather.json https://prodapi.metweb.ie/observations/athenry/today\n",
    "```\n",
    "\n",
    "`man` page wget:\n",
    "\n",
    "- https://man7.org/linux/man-pages/man1/wget.1.html"
   ]
  },
  {
   "cell_type": "markdown",
   "metadata": {},
   "source": [
    "#### TASK 6: Timestamp the Data\n",
    "\n",
    "Used command:\n",
    "\n",
    "```\n",
    "$ wget -O `date +%Y%m%d_%H%M%S.json` https://prodapi.metweb.ie/observations/athenry/today\n",
    "```"
   ]
  },
  {
   "cell_type": "markdown",
   "metadata": {},
   "source": [
    "#### TASK 7: Write the Script\n",
    "\n",
    "FreeCodeCamp gives a good crash course on how to create a bash script:\n",
    "\n",
    "- https://www.freecodecamp.org/news/shell-scripting-crash-course-how-to-write-bash-scripts-in-linux/\n",
    "\n",
    "\n",
    "`$ touch weather.sh`\n",
    "\n",
    "Put the command in the new file:\n",
    "\n",
    "`$ wget -O 'date +%Y%m%d_%H%M%S.json' https://prodapi.metweb.ie/observations/athenry/today `\n",
    "\n",
    "Make the script executable:\n",
    "\n",
    "`$ chmod +x weather.sh`\n",
    "\n",
    "Executed using:\n",
    "    \n",
    "`$ ./weather.sh`"
   ]
  },
  {
   "cell_type": "markdown",
   "metadata": {},
   "source": [
    "### Data Analysis\n",
    "\n",
    "***"
   ]
  },
  {
   "cell_type": "markdown",
   "metadata": {},
   "source": [
    "The weather files downloaded contain daily weather data such as temperature, rainfall, windspeed, humidity, and time. The file is in json format a format that's easy for humans to read/write and easy for machines to parse.\n",
    "\n",
    "Pandas has a built-in method for reading json files.\n",
    "\n",
    "- https://pandas.pydata.org/pandas-docs/stable/reference/api/pandas.read_json.html"
   ]
  },
  {
   "cell_type": "code",
   "execution_count": 2,
   "metadata": {},
   "outputs": [],
   "source": [
    "# Read in the json file\n",
    "df = pd.read_json(\"data/weather/20241001_195243.json\")"
   ]
  },
  {
   "cell_type": "code",
   "execution_count": 3,
   "metadata": {},
   "outputs": [
    {
     "data": {
      "text/html": [
       "<div>\n",
       "<style scoped>\n",
       "    .dataframe tbody tr th:only-of-type {\n",
       "        vertical-align: middle;\n",
       "    }\n",
       "\n",
       "    .dataframe tbody tr th {\n",
       "        vertical-align: top;\n",
       "    }\n",
       "\n",
       "    .dataframe thead th {\n",
       "        text-align: right;\n",
       "    }\n",
       "</style>\n",
       "<table border=\"1\" class=\"dataframe\">\n",
       "  <thead>\n",
       "    <tr style=\"text-align: right;\">\n",
       "      <th></th>\n",
       "      <th>name</th>\n",
       "      <th>temperature</th>\n",
       "      <th>symbol</th>\n",
       "      <th>weatherDescription</th>\n",
       "      <th>text</th>\n",
       "      <th>windSpeed</th>\n",
       "      <th>windGust</th>\n",
       "      <th>cardinalWindDirection</th>\n",
       "      <th>windDirection</th>\n",
       "      <th>humidity</th>\n",
       "      <th>rainfall</th>\n",
       "      <th>pressure</th>\n",
       "      <th>dayName</th>\n",
       "      <th>date</th>\n",
       "      <th>reportTime</th>\n",
       "    </tr>\n",
       "  </thead>\n",
       "  <tbody>\n",
       "    <tr>\n",
       "      <th>0</th>\n",
       "      <td>Athenry</td>\n",
       "      <td>8</td>\n",
       "      <td>02n</td>\n",
       "      <td>Fair</td>\n",
       "      <td>\"Fair\"</td>\n",
       "      <td>7</td>\n",
       "      <td>-</td>\n",
       "      <td>NW</td>\n",
       "      <td>315</td>\n",
       "      <td>96</td>\n",
       "      <td>0</td>\n",
       "      <td>1015</td>\n",
       "      <td>Tuesday</td>\n",
       "      <td>2024-01-10</td>\n",
       "      <td>00:00</td>\n",
       "    </tr>\n",
       "    <tr>\n",
       "      <th>1</th>\n",
       "      <td>Athenry</td>\n",
       "      <td>7</td>\n",
       "      <td>02n</td>\n",
       "      <td>Fair</td>\n",
       "      <td>\"Fair\"</td>\n",
       "      <td>7</td>\n",
       "      <td>-</td>\n",
       "      <td>NW</td>\n",
       "      <td>315</td>\n",
       "      <td>97</td>\n",
       "      <td>0</td>\n",
       "      <td>1016</td>\n",
       "      <td>Tuesday</td>\n",
       "      <td>2024-01-10</td>\n",
       "      <td>01:00</td>\n",
       "    </tr>\n",
       "    <tr>\n",
       "      <th>2</th>\n",
       "      <td>Athenry</td>\n",
       "      <td>7</td>\n",
       "      <td>02n</td>\n",
       "      <td>Fair</td>\n",
       "      <td>\"Fair\"</td>\n",
       "      <td>9</td>\n",
       "      <td>-</td>\n",
       "      <td>NW</td>\n",
       "      <td>315</td>\n",
       "      <td>97</td>\n",
       "      <td>0</td>\n",
       "      <td>1016</td>\n",
       "      <td>Tuesday</td>\n",
       "      <td>2024-01-10</td>\n",
       "      <td>02:00</td>\n",
       "    </tr>\n",
       "    <tr>\n",
       "      <th>3</th>\n",
       "      <td>Athenry</td>\n",
       "      <td>8</td>\n",
       "      <td>02n</td>\n",
       "      <td>Fair</td>\n",
       "      <td>\"Fair\"</td>\n",
       "      <td>9</td>\n",
       "      <td>-</td>\n",
       "      <td>NW</td>\n",
       "      <td>315</td>\n",
       "      <td>97</td>\n",
       "      <td>0</td>\n",
       "      <td>1016</td>\n",
       "      <td>Tuesday</td>\n",
       "      <td>2024-01-10</td>\n",
       "      <td>03:00</td>\n",
       "    </tr>\n",
       "    <tr>\n",
       "      <th>4</th>\n",
       "      <td>Athenry</td>\n",
       "      <td>9</td>\n",
       "      <td>04n</td>\n",
       "      <td>Cloudy</td>\n",
       "      <td>\"Cloudy\"</td>\n",
       "      <td>9</td>\n",
       "      <td>-</td>\n",
       "      <td>NW</td>\n",
       "      <td>315</td>\n",
       "      <td>97</td>\n",
       "      <td>0</td>\n",
       "      <td>1016</td>\n",
       "      <td>Tuesday</td>\n",
       "      <td>2024-01-10</td>\n",
       "      <td>04:00</td>\n",
       "    </tr>\n",
       "  </tbody>\n",
       "</table>\n",
       "</div>"
      ],
      "text/plain": [
       "      name  temperature symbol weatherDescription      text  windSpeed  \\\n",
       "0  Athenry            8    02n               Fair    \"Fair\"          7   \n",
       "1  Athenry            7    02n               Fair    \"Fair\"          7   \n",
       "2  Athenry            7    02n               Fair    \"Fair\"          9   \n",
       "3  Athenry            8    02n               Fair    \"Fair\"          9   \n",
       "4  Athenry            9    04n             Cloudy  \"Cloudy\"          9   \n",
       "\n",
       "  windGust cardinalWindDirection  windDirection  humidity  rainfall  pressure  \\\n",
       "0        -                    NW            315        96         0      1015   \n",
       "1        -                    NW            315        97         0      1016   \n",
       "2        -                    NW            315        97         0      1016   \n",
       "3        -                    NW            315        97         0      1016   \n",
       "4        -                    NW            315        97         0      1016   \n",
       "\n",
       "   dayName       date reportTime  \n",
       "0  Tuesday 2024-01-10      00:00  \n",
       "1  Tuesday 2024-01-10      01:00  \n",
       "2  Tuesday 2024-01-10      02:00  \n",
       "3  Tuesday 2024-01-10      03:00  \n",
       "4  Tuesday 2024-01-10      04:00  "
      ]
     },
     "execution_count": 3,
     "metadata": {},
     "output_type": "execute_result"
    }
   ],
   "source": [
    "# View head of dataframe\n",
    "df.head(5)\n"
   ]
  },
  {
   "cell_type": "code",
   "execution_count": 4,
   "metadata": {},
   "outputs": [
    {
     "data": {
      "text/plain": [
       "['name',\n",
       " 'temperature',\n",
       " 'symbol',\n",
       " 'weatherDescription',\n",
       " 'text',\n",
       " 'windSpeed',\n",
       " 'windGust',\n",
       " 'cardinalWindDirection',\n",
       " 'windDirection',\n",
       " 'humidity',\n",
       " 'rainfall',\n",
       " 'pressure',\n",
       " 'dayName',\n",
       " 'date',\n",
       " 'reportTime']"
      ]
     },
     "execution_count": 4,
     "metadata": {},
     "output_type": "execute_result"
    }
   ],
   "source": [
    "# View the column headers \n",
    "df.columns.tolist()"
   ]
  },
  {
   "cell_type": "markdown",
   "metadata": {},
   "source": [
    "Now to do some plotting using [Matplotlib.](https://matplotlib.org/) Matplotlib is a popular data visualisation library which can be used to create a variety of different plots."
   ]
  },
  {
   "cell_type": "code",
   "execution_count": 5,
   "metadata": {},
   "outputs": [
    {
     "data": {
      "image/png": "[encoded data removed]",
      "text/plain": [
       "<Figure size 720x360 with 2 Axes>"
      ]
     },
     "metadata": {
      "needs_background": "light"
     },
     "output_type": "display_data"
    }
   ],
   "source": [
    "# Get day, date info for plot title\n",
    "df['date'] = df['date'].dt.strftime('%Y-%m-%d')\n",
    "date = df['date'].iloc[0]\n",
    "day = df['dayName'].iloc[0]\n",
    "\n",
    "# Set up the canvas\n",
    "fig, ax = plt.subplots(figsize=(10, 5))\n",
    "\n",
    "# Create line plot for temperature\n",
    "ax.plot(\n",
    "    df['reportTime'],\n",
    "    df['temperature'],\n",
    "    linestyle='-',\n",
    "    color='tab:red',\n",
    "    label='Temperature',\n",
    "    zorder=3\n",
    "    )\n",
    "\n",
    "# Set up a secondary y-axis for the rainfall bar chart\n",
    "ax2 = ax.twinx()\n",
    "\n",
    "# Create bar plot for humidity\n",
    "ax2.bar(\n",
    "    df['reportTime'],\n",
    "    df['humidity'],\n",
    "    width=1,\n",
    "    color='tab:blue',\n",
    "    edgecolor='black',\n",
    "    linewidth=1,\n",
    "    alpha=0.2,\n",
    "    label='Humidity',\n",
    "    zorder=2\n",
    "    )\n",
    "\n",
    "# Decorate the plot\n",
    "ax.set_title(f\"{day} {date}\", fontsize=16)\n",
    "ax.set_xlabel('Time', fontsize=14)\n",
    "ax.set_ylabel('Temperature (°C)', fontsize=14)\n",
    "ax2.set_ylabel('Humidity (%)', fontsize=14)\n",
    "\n",
    "# Rotate x-tick labels for readability\n",
    "ax.tick_params(axis='x', rotation=45)\n",
    "\n",
    "# Add legend\n",
    "fig.legend(loc=\"lower right\",bbox_to_anchor=(0.95, 0.05), bbox_transform=ax.transAxes)\n",
    "\n",
    "# Auto adjust layout\n",
    "plt.tight_layout()"
   ]
  },
  {
   "cell_type": "markdown",
   "metadata": {},
   "source": [
    "Pandas `describe()` method provides a summary of key statistics, including min, max, mean, standard deviation, for numerical data in a DataFrame/Series:\n",
    "\n",
    "- https://pandas.pydata.org/pandas-docs/stable/reference/api/pandas.DataFrame.describe.html"
   ]
  },
  {
   "cell_type": "code",
   "execution_count": 6,
   "metadata": {},
   "outputs": [
    {
     "data": {
      "text/html": [
       "<div>\n",
       "<style scoped>\n",
       "    .dataframe tbody tr th:only-of-type {\n",
       "        vertical-align: middle;\n",
       "    }\n",
       "\n",
       "    .dataframe tbody tr th {\n",
       "        vertical-align: top;\n",
       "    }\n",
       "\n",
       "    .dataframe thead th {\n",
       "        text-align: right;\n",
       "    }\n",
       "</style>\n",
       "<table border=\"1\" class=\"dataframe\">\n",
       "  <thead>\n",
       "    <tr style=\"text-align: right;\">\n",
       "      <th></th>\n",
       "      <th>temperature</th>\n",
       "      <th>windSpeed</th>\n",
       "      <th>humidity</th>\n",
       "      <th>pressure</th>\n",
       "    </tr>\n",
       "  </thead>\n",
       "  <tbody>\n",
       "    <tr>\n",
       "      <th>count</th>\n",
       "      <td>20.000000</td>\n",
       "      <td>20.000000</td>\n",
       "      <td>20.000000</td>\n",
       "      <td>20.000000</td>\n",
       "    </tr>\n",
       "    <tr>\n",
       "      <th>mean</th>\n",
       "      <td>11.800000</td>\n",
       "      <td>10.200000</td>\n",
       "      <td>82.250000</td>\n",
       "      <td>1016.800000</td>\n",
       "    </tr>\n",
       "    <tr>\n",
       "      <th>std</th>\n",
       "      <td>3.318211</td>\n",
       "      <td>2.284962</td>\n",
       "      <td>16.707625</td>\n",
       "      <td>0.894427</td>\n",
       "    </tr>\n",
       "    <tr>\n",
       "      <th>min</th>\n",
       "      <td>7.000000</td>\n",
       "      <td>7.000000</td>\n",
       "      <td>56.000000</td>\n",
       "      <td>1015.000000</td>\n",
       "    </tr>\n",
       "    <tr>\n",
       "      <th>25%</th>\n",
       "      <td>9.000000</td>\n",
       "      <td>9.000000</td>\n",
       "      <td>67.000000</td>\n",
       "      <td>1016.000000</td>\n",
       "    </tr>\n",
       "    <tr>\n",
       "      <th>50%</th>\n",
       "      <td>11.000000</td>\n",
       "      <td>9.000000</td>\n",
       "      <td>94.000000</td>\n",
       "      <td>1017.000000</td>\n",
       "    </tr>\n",
       "    <tr>\n",
       "      <th>75%</th>\n",
       "      <td>15.000000</td>\n",
       "      <td>11.500000</td>\n",
       "      <td>97.000000</td>\n",
       "      <td>1017.250000</td>\n",
       "    </tr>\n",
       "    <tr>\n",
       "      <th>max</th>\n",
       "      <td>16.000000</td>\n",
       "      <td>15.000000</td>\n",
       "      <td>97.000000</td>\n",
       "      <td>1018.000000</td>\n",
       "    </tr>\n",
       "  </tbody>\n",
       "</table>\n",
       "</div>"
      ],
      "text/plain": [
       "       temperature  windSpeed   humidity     pressure\n",
       "count    20.000000  20.000000  20.000000    20.000000\n",
       "mean     11.800000  10.200000  82.250000  1016.800000\n",
       "std       3.318211   2.284962  16.707625     0.894427\n",
       "min       7.000000   7.000000  56.000000  1015.000000\n",
       "25%       9.000000   9.000000  67.000000  1016.000000\n",
       "50%      11.000000   9.000000  94.000000  1017.000000\n",
       "75%      15.000000  11.500000  97.000000  1017.250000\n",
       "max      16.000000  15.000000  97.000000  1018.000000"
      ]
     },
     "execution_count": 6,
     "metadata": {},
     "output_type": "execute_result"
    }
   ],
   "source": [
    "# Statistical summary of columns of interest\n",
    "df[['temperature', 'windSpeed', 'humidity', 'pressure']].describe()"
   ]
  },
  {
   "cell_type": "markdown",
   "metadata": {},
   "source": [
    "[Correlation](https://en.wikipedia.org/wiki/Correlation) describes the relationship between two variables.\n",
    "\n",
    "Pandas can be used to compute \"pairwise correlation of columns\".\n",
    "\n",
    "- https://pandas.pydata.org/pandas-docs/stable/reference/api/pandas.DataFrame.corr.html"
   ]
  },
  {
   "cell_type": "code",
   "execution_count": 7,
   "metadata": {},
   "outputs": [],
   "source": [
    "# Calculate the correlation matrix of specified columns\n",
    "correlation_matrix = df[['temperature', 'windSpeed', 'humidity', 'pressure']].corr()"
   ]
  },
  {
   "cell_type": "markdown",
   "metadata": {},
   "source": [
    "The resulting matrix can be plotted using Seaborns `heatmap()` method:\n",
    "\n",
    "- https://seaborn.pydata.org/generated/seaborn.heatmap.html"
   ]
  },
  {
   "cell_type": "code",
   "execution_count": 8,
   "metadata": {},
   "outputs": [
    {
     "data": {
      "text/plain": [
       "Text(0.5, 1.0, 'Correlation Matrix of Weather Variables')"
      ]
     },
     "execution_count": 8,
     "metadata": {},
     "output_type": "execute_result"
    },
    {
     "data": {
      "image/png": "[encoded data removed]",
      "text/plain": [
       "<Figure size 864x576 with 2 Axes>"
      ]
     },
     "metadata": {
      "needs_background": "light"
     },
     "output_type": "display_data"
    }
   ],
   "source": [
    "# Plot a heatmap of the correlation matrix\n",
    "fig, ax = plt.subplots(figsize=(12, 8))\n",
    "\n",
    "sns.heatmap(correlation_matrix, annot=True, cmap='coolwarm', vmin=-1, vmax=1, ax=ax)\n",
    "\n",
    "ax.set_title('Correlation Matrix of Weather Variables')"
   ]
  },
  {
   "cell_type": "markdown",
   "metadata": {},
   "source": [
    "There is a positive correlation between Pressure and Temperature i.e. if pressure rises, temperature tends to increase.\n",
    "\n",
    "**Note:** correlation doesn't imply causation.\n",
    "\n",
    "A simple linear regression line represents an \"approximation of the relationship between X and Y\"\n",
    "\n",
    "- https://www.geeksforgeeks.org/what-is-regression-line/"
   ]
  },
  {
   "cell_type": "code",
   "execution_count": 9,
   "metadata": {},
   "outputs": [
    {
     "data": {
      "image/png": "[encoded data removed]",
      "text/plain": [
       "<Figure size 720x432 with 1 Axes>"
      ]
     },
     "metadata": {
      "needs_background": "light"
     },
     "output_type": "display_data"
    }
   ],
   "source": [
    "# Plot scatter\n",
    "fig, ax = plt.subplots(figsize=(10, 6))\n",
    "\n",
    "ax.scatter(df['pressure'], df['temperature'], color='b', alpha=0.7, edgecolors='k')\n",
    "\n",
    "# Fit a Linear Regression Line\n",
    "m, b = np.polyfit(df['pressure'], df['temperature'], 1)  # m = slope, b = intercept\n",
    "ax.plot(df['pressure'], m * df['pressure'] + b, color='red', linestyle='--', label=f'Line of Best Fit\\n$y={m:.2f}x + {b:.2f}$')\n",
    "\n",
    "# Add Titles and Labels\n",
    "ax.set_title('Scatter Plot of Pressure vs Temperature', fontsize=16)\n",
    "ax.set_xlabel('Pressure (hPa)', fontsize=14)\n",
    "ax.set_ylabel('Temperature (°C)', fontsize=14)\n",
    "\n",
    "# Add a grid\n",
    "ax.grid(True, linestyle='--', alpha=0.5)\n",
    "\n",
    "# Add a legend\n",
    "ax.legend(fontsize=12, loc='lower right')\n",
    "\n",
    "# Auto adjust layout\n",
    "plt.tight_layout()"
   ]
  },
  {
   "cell_type": "markdown",
   "metadata": {},
   "source": [
    "***\n",
    "\n",
    "### END"
   ]
  }
 ],
 "metadata": {
  "kernelspec": {
   "display_name": "Python 3",
   "language": "python",
   "name": "python3"
  },
  "language_info": {
   "codemirror_mode": {
    "name": "ipython",
    "version": 3
   },
   "file_extension": ".py",
   "mimetype": "text/x-python",
   "name": "python",
   "nbconvert_exporter": "python",
   "pygments_lexer": "ipython3",
   "version": "3.10.12"
  }
 },
 "nbformat": 4,
 "nbformat_minor": 2
}
