{
 "cells": [
  {
   "cell_type": "markdown",
   "metadata": {},
   "source": [
    "# Weather"
   ]
  },
  {
   "cell_type": "markdown",
   "metadata": {},
   "source": [
    "### TASK 1\n",
    "\n",
    "created directories\n",
    "    \n",
    "```\n",
    "mkdir data\n",
    "cd data\n",
    "mkdir weather\n",
    "mkdir timestamps\n",
    "```\n",
    "\n",
    "used BASH reference manual\n",
    "\n",
    "- https://www.gnu.org/software/bash/manual/bash.html\n",
    "\n",
    "BASH homepage:\n",
    "\n",
    "- https://www.gnu.org/software/bash/\n",
    "\n",
    "found a fast way to make all in one go:\n",
    "    \n",
    "`mkdir -p data/weather data/timestamps`\n",
    "\n",
    "from:\n",
    "\n",
    "- https://unix.stackexchange.com/questions/338104/creating-multiple-nested-directories-with-one-command\n",
    "\n",
    "this seems to be the man page for mkdir:\n",
    "    \n",
    "- https://linux.die.net/man/1/mkdir\n",
    "    \n",
    "`-p` means `--parents`, bash creates parent directories as required"
   ]
  },
  {
   "cell_type": "markdown",
   "metadata": {},
   "source": [
    "### TASK 2\n",
    "\n",
    "    cd data/timestamps\n",
    "    date >> now.txt\n",
    "\n",
    "cd mean change directory\n",
    "\n",
    "- https://www.gnu.org/software/bash/manual/bash.html#index-cd\n",
    "\n",
    ">> pipes stuff into a file\n",
    "\n",
    "- https://www.gnu.org/software/bash/manual/bash.html#Appending-Redirected-Output\n",
    "\n",
    "man page for date\n",
    "\n",
    "- https://www.man7.org/linux/man-pages/man1/date.1.html"
   ]
  },
  {
   "cell_type": "markdown",
   "metadata": {},
   "source": [
    "### TASK 3\n",
    "\n",
    "man pages\n",
    "\n",
    "- https://www.man7.org/linux/man-pages/man1/date.1.html\n",
    "\n",
    "`date --help` tell where to get full documentation\n",
    "\n",
    "- https://www.gnu.org/software/coreutils/manual/html_node/date-invocation.html#date-invocation\n",
    "\n",
    "this site gives good intruction how to combine things:\n",
    "\n",
    "- https://www.howtogeek.com/410442/how-to-display-the-date-and-time-in-the-linux-terminal-and-use-it-in-bash-scripts/\n",
    "\n",
    "usa % operator and \n",
    "    \n",
    "    date +%Y%m%d_%H%M%S"
   ]
  },
  {
   "cell_type": "markdown",
   "metadata": {},
   "source": [
    "### TASK 4\n",
    "\n",
    "append to file:\n",
    "    \n",
    "    touch `date +%Y%m%d_%H%M%S.txt`\n",
    "\n",
    "touch man page:\n",
    "\n",
    "- https://www.man7.org/linux/man-pages/man1/touch.1.html"
   ]
  },
  {
   "cell_type": "markdown",
   "metadata": {},
   "source": [
    "### TASK 5\n",
    "\n",
    "used command:\n",
    "\n",
    "```\n",
    " wget -O weather.json https://prodapi.metweb.ie/observations/athenry/today\n",
    "```\n",
    "\n",
    "man page wget:\n",
    "\n",
    "- https://man7.org/linux/man-pages/man1/wget.1.html"
   ]
  },
  {
   "cell_type": "markdown",
   "metadata": {},
   "source": [
    "### TASK 6\n",
    "\n",
    "used command:\n",
    "\n",
    "```\n",
    "wget -O `date +%Y%m%d_%H%M%S.json` https://prodapi.metweb.ie/observations/athenry/today\n",
    "```"
   ]
  },
  {
   "cell_type": "markdown",
   "metadata": {},
   "source": [
    "### TASK 7\n",
    "\n",
    "feeCodeCampe give a good crash course on how to create a bash script:\n",
    "\n",
    "- https://www.freecodecamp.org/news/shell-scripting-crash-course-how-to-write-bash-scripts-in-linux/\n",
    "\n",
    "\n",
    "```\n",
    "touch weather.sh\n",
    "nano weather.sh\n",
    "paste in: \n",
    "    wget -O `date +%Y%m%d_%H%M%S.json` https://prodapi.metweb.ie/observations/athenry/today\n",
    "Ctrl-O\n",
    "Ctrl-X\n",
    "chmod +x weather.sh\n",
    "```\n",
    "\n",
    "executed using:\n",
    "    \n",
    "    ./weather.sh\n",
    "\n",
    "\n",
    "installed jq to pretty print json files in the console\n",
    "\n",
    "- https://jqlang.github.io/jq/manual/\n",
    "\n",
    "view pretty json:\n",
    "    \n",
    "    jq . weather.json"
   ]
  }
 ],
 "metadata": {
  "language_info": {
   "name": "python"
  }
 },
 "nbformat": 4,
 "nbformat_minor": 2
}
